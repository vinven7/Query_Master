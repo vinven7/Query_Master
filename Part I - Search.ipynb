{
 "cells": [
  {
   "cell_type": "code",
   "execution_count": 1,
   "metadata": {},
   "outputs": [],
   "source": [
    "import pandas as pd\n",
    "import requests\n",
    "import json\n",
    "import threading\n",
    "import os\n",
    "import time\n",
    "from requests.utils import quote\n",
    "pd.options.mode.chained_assignment = None"
   ]
  },
  {
   "cell_type": "markdown",
   "metadata": {},
   "source": [
    "## TempDF is the repository of all Query Results\n",
    "Every query collects the DOI, PII (for science Direct), the title and the Journal Name"
   ]
  },
  {
   "cell_type": "code",
   "execution_count": 47,
   "metadata": {},
   "outputs": [],
   "source": [
    "global TempDF\n",
    "\n",
    "TempDF=pd.DataFrame(columns=['Query','PII','DOI','Title', 'Journal'])\n",
    "TempDF=TempDF.set_index('DOI')\n"
   ]
  },
  {
   "cell_type": "code",
   "execution_count": 48,
   "metadata": {},
   "outputs": [
    {
     "data": {
      "text/html": [
       "<div>\n",
       "<style scoped>\n",
       "    .dataframe tbody tr th:only-of-type {\n",
       "        vertical-align: middle;\n",
       "    }\n",
       "\n",
       "    .dataframe tbody tr th {\n",
       "        vertical-align: top;\n",
       "    }\n",
       "\n",
       "    .dataframe thead th {\n",
       "        text-align: right;\n",
       "    }\n",
       "</style>\n",
       "<table border=\"1\" class=\"dataframe\">\n",
       "  <thead>\n",
       "    <tr style=\"text-align: right;\">\n",
       "      <th></th>\n",
       "      <th>Query</th>\n",
       "      <th>PII</th>\n",
       "      <th>Title</th>\n",
       "      <th>Journal</th>\n",
       "    </tr>\n",
       "    <tr>\n",
       "      <th>DOI</th>\n",
       "      <th></th>\n",
       "      <th></th>\n",
       "      <th></th>\n",
       "      <th></th>\n",
       "    </tr>\n",
       "  </thead>\n",
       "  <tbody>\n",
       "  </tbody>\n",
       "</table>\n",
       "</div>"
      ],
      "text/plain": [
       "Empty DataFrame\n",
       "Columns: [Query, PII, Title, Journal]\n",
       "Index: []"
      ]
     },
     "execution_count": 48,
     "metadata": {},
     "output_type": "execute_result"
    }
   ],
   "source": [
    "TempDF"
   ]
  },
  {
   "cell_type": "markdown",
   "metadata": {},
   "source": [
    "## API List\n",
    "Keep checking APIs before every run to see if any of them have expired"
   ]
  },
  {
   "cell_type": "code",
   "execution_count": 174,
   "metadata": {},
   "outputs": [],
   "source": [
    "API=['580f859e483c28be2f96a25bab0fa0be','086e2acab5bf938029bba3818db45aff','7c86ebf119065c91ff6f6dc13309b018']"
   ]
  },
  {
   "cell_type": "markdown",
   "metadata": {},
   "source": [
    "## Entery Query or Query list"
   ]
  },
  {
   "cell_type": "code",
   "execution_count": 175,
   "metadata": {},
   "outputs": [],
   "source": [
    "query=['glass','adad','ads']"
   ]
  },
  {
   "cell_type": "markdown",
   "metadata": {},
   "source": [
    "## Science Direct Query Search"
   ]
  },
  {
   "cell_type": "code",
   "execution_count": 182,
   "metadata": {},
   "outputs": [],
   "source": [
    "header = {'User-Agent': 'Mozilla/5.0',\n",
    "           'accept-encoding': 'UTF-8'} \n",
    "\n",
    "def science_direct_search(query, API,TempDF,start=0,count=5000):\n",
    "\n",
    "        for star in range(start,count,25):\n",
    "            url='https://api.elsevier.com/content/search/sciencedirect?query='+query+'&apiKey='+API+'&start='+str(star)+'&count=25&httpAccept=application/json'\n",
    "            r=requests.get(url, headers=header,timeout=30)\n",
    "            try:\n",
    "                if r.status_code==200:\n",
    "                    body=r.json()['search-results']['entry']\n",
    "                    for item in body:\n",
    "                        TempDF.loc[item['prism:doi']]=(query,item['pii'],item ['dc:title'], item['prism:publicationName'])\n",
    "                    \n",
    "            except Exception as e:\n",
    "                print(e)\n",
    "        \n",
    "        return None"
   ]
  },
  {
   "cell_type": "markdown",
   "metadata": {},
   "source": [
    "## Run Science Direct Search"
   ]
  },
  {
   "cell_type": "code",
   "execution_count": 179,
   "metadata": {},
   "outputs": [],
   "source": [
    "science_direct_search('glass',API[0],TempDF,count=100)"
   ]
  },
  {
   "cell_type": "code",
   "execution_count": 196,
   "metadata": {},
   "outputs": [
    {
     "data": {
      "text/plain": [
       "99"
      ]
     },
     "execution_count": 196,
     "metadata": {},
     "output_type": "execute_result"
    }
   ],
   "source": [
    "len(TempDF)"
   ]
  },
  {
   "cell_type": "markdown",
   "metadata": {},
   "source": [
    "## Cross Reference Query\n",
    "\n",
    "This runs until the query is exhausted. So could take a long time per query. \n",
    "It is better to run this on the HPC/Download Server"
   ]
  },
  {
   "cell_type": "code",
   "execution_count": 37,
   "metadata": {},
   "outputs": [],
   "source": [
    "def cross_reference_search(query,TempDF):\n",
    "    \n",
    "    cursor = \"*\"\n",
    "    keep_paging = True\n",
    "    max_rows = 1000\n",
    "    \n",
    "    \n",
    "    base_url = 'https://api.crossref.org/works?query='\n",
    "\n",
    "    headers = {\n",
    "           'Accept': 'application/json'\n",
    "         }\n",
    "    \n",
    "    \n",
    "    while (keep_paging):\n",
    "        \n",
    "        try:\n",
    "    \n",
    "            r = requests.get(base_url + query + \"&rows=\" + str(max_rows) + \"&cursor=\" + cursor,\n",
    "                                      headers=headers, timeout=30)\n",
    "        \n",
    "            cursor = quote(r.json()['message']['next-cursor'], safe='')\n",
    "\n",
    "            if len(r.json()['message']['items']) == 0:\n",
    "                            keep_paging = False\n",
    "            \n",
    "            for item in r.json()['message']['items']:\n",
    "                try:\n",
    "                    Journal=item['container-title'][0]\n",
    "                except:\n",
    "                    Journal='None'\n",
    "\n",
    "                TempDF.loc[item['DOI']]=(query,'None',item['title'][0],Journal)\n",
    "               \n",
    "               \n",
    "        except:\n",
    "            pass\n",
    "        \n",
    "    return None                         "
   ]
  },
  {
   "cell_type": "markdown",
   "metadata": {},
   "source": [
    "## Run Cross Reference Search"
   ]
  },
  {
   "cell_type": "code",
   "execution_count": null,
   "metadata": {},
   "outputs": [],
   "source": [
    "cross_reference_search('magnesium alloy',TempDF)"
   ]
  },
  {
   "cell_type": "code",
   "execution_count": null,
   "metadata": {},
   "outputs": [],
   "source": [
    "len(TempDF)"
   ]
  },
  {
   "cell_type": "code",
   "execution_count": 44,
   "metadata": {},
   "outputs": [
    {
     "data": {
      "text/html": [
       "<div>\n",
       "<style scoped>\n",
       "    .dataframe tbody tr th:only-of-type {\n",
       "        vertical-align: middle;\n",
       "    }\n",
       "\n",
       "    .dataframe tbody tr th {\n",
       "        vertical-align: top;\n",
       "    }\n",
       "\n",
       "    .dataframe thead th {\n",
       "        text-align: right;\n",
       "    }\n",
       "</style>\n",
       "<table border=\"1\" class=\"dataframe\">\n",
       "  <thead>\n",
       "    <tr style=\"text-align: right;\">\n",
       "      <th></th>\n",
       "      <th>Query</th>\n",
       "      <th>PII</th>\n",
       "      <th>Title</th>\n",
       "      <th>Journal</th>\n",
       "    </tr>\n",
       "    <tr>\n",
       "      <th>DOI</th>\n",
       "      <th></th>\n",
       "      <th></th>\n",
       "      <th></th>\n",
       "      <th></th>\n",
       "    </tr>\n",
       "  </thead>\n",
       "  <tbody>\n",
       "    <tr>\n",
       "      <th>10.1016/s0099-2399(06)81890-x</th>\n",
       "      <td>cement</td>\n",
       "      <td>None</td>\n",
       "      <td>Solving endodontic isolation problems with int...</td>\n",
       "      <td>Journal of Endodontics</td>\n",
       "    </tr>\n",
       "    <tr>\n",
       "      <th>10.2118/178853-ms</th>\n",
       "      <td>cement</td>\n",
       "      <td>None</td>\n",
       "      <td>Improved Cement Plug Placement Method Resultin...</td>\n",
       "      <td>IADC/SPE Drilling Conference and Exhibition</td>\n",
       "    </tr>\n",
       "    <tr>\n",
       "      <th>10.2118/178772-ms</th>\n",
       "      <td>cement</td>\n",
       "      <td>None</td>\n",
       "      <td>New Approach In Lifting Cement In Highly Deple...</td>\n",
       "      <td>IADC/SPE Drilling Conference and Exhibition</td>\n",
       "    </tr>\n",
       "    <tr>\n",
       "      <th>10.2118/178793-ms</th>\n",
       "      <td>cement</td>\n",
       "      <td>None</td>\n",
       "      <td>Development of Geopolymer-based Cement Slurrie...</td>\n",
       "      <td>IADC/SPE Drilling Conference and Exhibition</td>\n",
       "    </tr>\n",
       "    <tr>\n",
       "      <th>10.1063/1.4973029</th>\n",
       "      <td>cement</td>\n",
       "      <td>None</td>\n",
       "      <td>Peculiarities of volume-phase characteristics ...</td>\n",
       "      <td>None</td>\n",
       "    </tr>\n",
       "  </tbody>\n",
       "</table>\n",
       "</div>"
      ],
      "text/plain": [
       "                                Query   PII  \\\n",
       "DOI                                           \n",
       "10.1016/s0099-2399(06)81890-x  cement  None   \n",
       "10.2118/178853-ms              cement  None   \n",
       "10.2118/178772-ms              cement  None   \n",
       "10.2118/178793-ms              cement  None   \n",
       "10.1063/1.4973029              cement  None   \n",
       "\n",
       "                                                                           Title  \\\n",
       "DOI                                                                                \n",
       "10.1016/s0099-2399(06)81890-x  Solving endodontic isolation problems with int...   \n",
       "10.2118/178853-ms              Improved Cement Plug Placement Method Resultin...   \n",
       "10.2118/178772-ms              New Approach In Lifting Cement In Highly Deple...   \n",
       "10.2118/178793-ms              Development of Geopolymer-based Cement Slurrie...   \n",
       "10.1063/1.4973029              Peculiarities of volume-phase characteristics ...   \n",
       "\n",
       "                                                                   Journal  \n",
       "DOI                                                                         \n",
       "10.1016/s0099-2399(06)81890-x                       Journal of Endodontics  \n",
       "10.2118/178853-ms              IADC/SPE Drilling Conference and Exhibition  \n",
       "10.2118/178772-ms              IADC/SPE Drilling Conference and Exhibition  \n",
       "10.2118/178793-ms              IADC/SPE Drilling Conference and Exhibition  \n",
       "10.1063/1.4973029                                                     None  "
      ]
     },
     "execution_count": 44,
     "metadata": {},
     "output_type": "execute_result"
    }
   ],
   "source": [
    "TempDF.head()"
   ]
  },
  {
   "cell_type": "code",
   "execution_count": 46,
   "metadata": {},
   "outputs": [
    {
     "data": {
      "text/plain": [
       "53457"
      ]
     },
     "execution_count": 46,
     "metadata": {},
     "output_type": "execute_result"
    }
   ],
   "source": [
    "len(TempDF.drop_duplicates(subset='Title'))"
   ]
  },
  {
   "cell_type": "code",
   "execution_count": 31,
   "metadata": {},
   "outputs": [],
   "source": [
    "cursor = \"*\"\n",
    "keep_paging = True\n",
    "max_rows = 1000\n",
    "query='cement'\n",
    "\n",
    "headers = {\n",
    "           'Accept': 'application/json'\n",
    "         }\n",
    "\n",
    "base_url = 'https://api.crossref.org/works?query='"
   ]
  },
  {
   "cell_type": "code",
   "execution_count": 9,
   "metadata": {},
   "outputs": [],
   "source": [
    "r = requests.get(base_url + query + \"&rows=\" + str(max_rows) + \"&cursor=\" + cursor,headers=headers, timeout=30)"
   ]
  },
  {
   "cell_type": "code",
   "execution_count": 30,
   "metadata": {},
   "outputs": [
    {
     "data": {
      "text/plain": [
       "1000"
      ]
     },
     "execution_count": 30,
     "metadata": {},
     "output_type": "execute_result"
    }
   ],
   "source": [
    "len(r.json()['message']['items'])"
   ]
  },
  {
   "cell_type": "code",
   "execution_count": 1,
   "metadata": {},
   "outputs": [],
   "source": [
    "while (keep_paging):\n",
    "    \n",
    "            r = requests.get(base_url + query + \"&rows=\" + str(max_rows) + \"&cursor=\" + cursor,\n",
    "                                      headers=headers, timeout=30)\n",
    "        \n",
    "            cursor = quote(r.json()['message']['next-cursor'], safe='')\n",
    "\n",
    "            if len(r.json()['message']['items']) == 0:\n",
    "                            keep_paging = False\n",
    "            \n",
    "            for item in r.json()['message']['items']:\n",
    "                \n",
    "                try:\n",
    "                    Journal=item['container-title'][0]\n",
    "                except:\n",
    "                    Journal='None'\n",
    "\n",
    "                TempDF.loc[item['DOI']]=(query,'None',item['title'][0],Journal)"
   ]
  },
  {
   "cell_type": "code",
   "execution_count": 28,
   "metadata": {},
   "outputs": [],
   "source": [
    "cursor4 = quote(r.json()['message']['next-cursor'], safe='')"
   ]
  },
  {
   "cell_type": "code",
   "execution_count": 29,
   "metadata": {},
   "outputs": [
    {
     "data": {
      "text/plain": [
       "('AoJz153gnfACPxJodHRwOi8vZHguZG9pLm9yZy8xMC4xMDE2L2ouY2VtY29ucmVzLjIwMTcuMDUuMDA0',\n",
       " 'AoJ448%2FP3fACPw9odHRwOi8vZHguZG9pLm9yZy8xMC4xMDE2LzAwMDgtODg0Nig5NCk5MDE2Ni14',\n",
       " 'AoJ448%2FP3fACPw9odHRwOi8vZHguZG9pLm9yZy8xMC4xMDE2LzAwMDgtODg0Nig5NCk5MDE2Ni14',\n",
       " 'AoJ6y%2BrkhPECPwdodHRwOi8vZHguZG9pLm9yZy8xMC4xMTE1OS9pY2NwZTE4LjExMQ%3D%3D')"
      ]
     },
     "execution_count": 29,
     "metadata": {},
     "output_type": "execute_result"
    }
   ],
   "source": [
    "cursor, cursor2,cursor3, cursor4"
   ]
  },
  {
   "cell_type": "code",
   "execution_count": 27,
   "metadata": {},
   "outputs": [],
   "source": [
    "r = requests.get(base_url + query + \"&rows=\" + str(max_rows) + \"&cursor=\" + cursor3,headers=headers, timeout=30)"
   ]
  },
  {
   "cell_type": "code",
   "execution_count": 33,
   "metadata": {},
   "outputs": [
    {
     "data": {
      "text/plain": [
       "3000"
      ]
     },
     "execution_count": 33,
     "metadata": {},
     "output_type": "execute_result"
    }
   ],
   "source": [
    "len(TempDF)"
   ]
  },
  {
   "cell_type": "code",
   "execution_count": 198,
   "metadata": {},
   "outputs": [
    {
     "data": {
      "text/plain": [
       "1975"
      ]
     },
     "execution_count": 198,
     "metadata": {},
     "output_type": "execute_result"
    }
   ],
   "source": [
    "TempDF.to_csv('aassd')"
   ]
  },
  {
   "cell_type": "markdown",
   "metadata": {},
   "source": [
    "## Science Direct Example"
   ]
  },
  {
   "cell_type": "code",
   "execution_count": 184,
   "metadata": {},
   "outputs": [],
   "source": [
    "#url='https://api.elsevier.com/content/search/sciencedirect?query='+query+'&apiKey='+API[0]+'&start=0&count=25&httpAccept=application/json'\n",
    "#r=requests.get(url, headers=header,timeout=30)\n",
    "#if r.status_code==200:\n",
    "#    body=r.json() "
   ]
  },
  {
   "cell_type": "markdown",
   "metadata": {},
   "source": [
    "## Crossref Example"
   ]
  },
  {
   "cell_type": "code",
   "execution_count": 195,
   "metadata": {},
   "outputs": [],
   "source": [
    "#cursor = \"*\"\n",
    "#base_url = 'https://api.crossref.org/works?query='\n",
    "#query='glass'\n",
    "#max_rows=100\n",
    "#headers = {\n",
    "#           'Accept': 'application/json'\n",
    "#         }\n",
    "#    \n",
    "#r = requests.get(base_url + query + \"&rows=\" + str(max_rows) + \"&cursor=\" + cursor,headers=headers, timeout=30)"
   ]
  },
  {
   "cell_type": "code",
   "execution_count": null,
   "metadata": {},
   "outputs": [],
   "source": []
  }
 ],
 "metadata": {
  "kernelspec": {
   "display_name": "Python 3",
   "language": "python",
   "name": "python3"
  },
  "language_info": {
   "codemirror_mode": {
    "name": "ipython",
    "version": 3
   },
   "file_extension": ".py",
   "mimetype": "text/x-python",
   "name": "python",
   "nbconvert_exporter": "python",
   "pygments_lexer": "ipython3",
   "version": "3.6.5"
  }
 },
 "nbformat": 4,
 "nbformat_minor": 2
}
